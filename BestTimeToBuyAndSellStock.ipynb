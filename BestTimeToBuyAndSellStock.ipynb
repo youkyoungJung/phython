{
 "cells": [
  {
   "cell_type": "code",
   "execution_count": 13,
   "id": "ab5fe7f8",
   "metadata": {},
   "outputs": [
    {
     "name": "stdout",
     "output_type": "stream",
     "text": [
      "price:  7\n",
      "max_price:  0\n",
      "max_price:  0\n",
      "max_price:  0\n",
      "max_price:  0\n",
      "max_price:  0\n",
      "max_price:  0\n",
      "price:  1\n",
      "max_price:  0\n",
      "max_price:  4\n",
      "max_price:  4\n",
      "max_price:  5\n",
      "max_price:  5\n",
      "price:  5\n",
      "max_price:  5\n",
      "max_price:  5\n",
      "max_price:  5\n",
      "max_price:  5\n",
      "price:  3\n",
      "max_price:  5\n",
      "max_price:  5\n",
      "max_price:  5\n",
      "price:  6\n",
      "max_price:  5\n",
      "max_price:  5\n",
      "price:  4\n",
      "max_price:  5\n"
     ]
    },
    {
     "data": {
      "text/plain": [
       "5"
      ]
     },
     "execution_count": 13,
     "metadata": {},
     "output_type": "execute_result"
    }
   ],
   "source": [
    "from typing import List\n",
    "\n",
    "def maxProfit(prices: List[int]) -> int:\n",
    "    max_price = 0\n",
    "\n",
    "    for i, price in enumerate(prices):\n",
    "        print(\"price: \", price)\n",
    "        for j in range(i, len(prices)):\n",
    "            max_price = max(prices[j] - price, max_price)\n",
    "            print(\"max_price: \", max_price)\n",
    "            \n",
    "    return max_price\n",
    "\n",
    "prices = [7,1,5,3,6,4]\n",
    "maxProfit(prices)"
   ]
  },
  {
   "cell_type": "code",
   "execution_count": 19,
   "id": "81f9fc6f",
   "metadata": {},
   "outputs": [
    {
     "name": "stdout",
     "output_type": "stream",
     "text": [
      "0\n",
      "-6\n",
      "-2\n",
      "-4\n",
      "-1\n",
      "-3\n",
      "0\n",
      "4\n",
      "2\n",
      "5\n",
      "3\n",
      "0\n",
      "-2\n",
      "1\n",
      "-1\n",
      "0\n",
      "3\n",
      "1\n",
      "0\n",
      "-2\n",
      "0\n"
     ]
    }
   ],
   "source": [
    "for i, price in enumerate(prices):\n",
    "    for j in range(i, len(prices)):\n",
    "        print(prices[j] - price)  "
   ]
  },
  {
   "cell_type": "code",
   "execution_count": null,
   "id": "f668b6a2",
   "metadata": {},
   "outputs": [],
   "source": []
  }
 ],
 "metadata": {
  "kernelspec": {
   "display_name": "Python 3",
   "language": "python",
   "name": "python3"
  },
  "language_info": {
   "codemirror_mode": {
    "name": "ipython",
    "version": 3
   },
   "file_extension": ".py",
   "mimetype": "text/x-python",
   "name": "python",
   "nbconvert_exporter": "python",
   "pygments_lexer": "ipython3",
   "version": "3.6.13"
  }
 },
 "nbformat": 4,
 "nbformat_minor": 5
}
