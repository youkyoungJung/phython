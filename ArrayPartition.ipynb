{
 "cells": [
  {
   "cell_type": "code",
   "execution_count": 1,
   "id": "9a34bfc8",
   "metadata": {},
   "outputs": [],
   "source": [
    "from typing import List"
   ]
  },
  {
   "cell_type": "code",
   "execution_count": 20,
   "id": "8143591b",
   "metadata": {},
   "outputs": [
    {
     "data": {
      "text/plain": [
       "4"
      ]
     },
     "execution_count": 20,
     "metadata": {},
     "output_type": "execute_result"
    }
   ],
   "source": [
    "def arrayPairSum(nums: List[int]) -> int:\n",
    "        sum = 0\n",
    "        pair = []\n",
    "        nums.sort()\n",
    "\n",
    "        for n in nums:\n",
    "            # 앞에서 부터 오름차순으로 페어를 만들어 합 계산\n",
    "            pair.append(n)\n",
    "            #print(pair)\n",
    "            if len(pair) == 2:\n",
    "                sum += min(pair)\n",
    "                pair = []\n",
    "\n",
    "        return sum\n",
    "nums = [1, 4, 3, 2]\n",
    "arrayPairSum(nums)"
   ]
  },
  {
   "cell_type": "code",
   "execution_count": 19,
   "id": "c3cdc3af",
   "metadata": {},
   "outputs": [
    {
     "data": {
      "text/plain": [
       "4"
      ]
     },
     "execution_count": 19,
     "metadata": {},
     "output_type": "execute_result"
    }
   ],
   "source": [
    "from typing import List\n",
    "\n",
    "def arrayPairSum2(nums: List[int]) -> int:\n",
    "    sum = 0\n",
    "    nums.sort()\n",
    "\n",
    "    for i, n in enumerate(nums):\n",
    "        # 짝수 번째 값의 합 계산\n",
    "        if i % 2 == 0:\n",
    "            sum += n\n",
    "\n",
    "    return sum\n",
    "\n",
    "nums = [1, 4, 3, 2]\n",
    "arrayPairSum2(nums)"
   ]
  },
  {
   "cell_type": "code",
   "execution_count": 21,
   "id": "00eb9ff9",
   "metadata": {},
   "outputs": [
    {
     "data": {
      "text/plain": [
       "4"
      ]
     },
     "execution_count": 21,
     "metadata": {},
     "output_type": "execute_result"
    }
   ],
   "source": [
    "from typing import List\n",
    "\n",
    "\n",
    "def arrayPairSum3(nums: List[int]) -> int:\n",
    "    return sum(sorted(nums)[::2])\n",
    "\n",
    "nums = [1, 4, 3, 2]\n",
    "arrayPairSum3(nums)"
   ]
  },
  {
   "cell_type": "code",
   "execution_count": null,
   "id": "0f37dfd4",
   "metadata": {},
   "outputs": [],
   "source": []
  }
 ],
 "metadata": {
  "kernelspec": {
   "display_name": "Python 3",
   "language": "python",
   "name": "python3"
  },
  "language_info": {
   "codemirror_mode": {
    "name": "ipython",
    "version": 3
   },
   "file_extension": ".py",
   "mimetype": "text/x-python",
   "name": "python",
   "nbconvert_exporter": "python",
   "pygments_lexer": "ipython3",
   "version": "3.6.13"
  }
 },
 "nbformat": 4,
 "nbformat_minor": 5
}
