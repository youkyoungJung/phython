{
 "cells": [
  {
   "cell_type": "code",
   "execution_count": 1,
   "id": "91666804",
   "metadata": {},
   "outputs": [],
   "source": [
    "import collections\n",
    "from typing import List\n"
   ]
  },
  {
   "cell_type": "code",
   "execution_count": 2,
   "id": "2e04d483",
   "metadata": {},
   "outputs": [],
   "source": [
    "def groupAnagrams(strs: List[str]) -> List[List[str]]:\n",
    "    anagrams = collections.defaultdict(list)\n",
    "\n",
    "    for word in strs:\n",
    "        # 정렬하여 딕셔너리에 추가\n",
    "        anagrams[''.join(sorted(word))].append(word)\n",
    "    return list(anagrams.values())"
   ]
  },
  {
   "cell_type": "code",
   "execution_count": 3,
   "id": "5c55b3d8",
   "metadata": {},
   "outputs": [
    {
     "data": {
      "text/plain": [
       "[['eat', 'tea', 'ate'], ['tan', 'nat'], ['bat']]"
      ]
     },
     "execution_count": 3,
     "metadata": {},
     "output_type": "execute_result"
    }
   ],
   "source": [
    "word = [\"eat\", \"tea\", \"tan\", \"ate\", \"nat\", \"bat\"]\n",
    "groupAnagrams(word)"
   ]
  },
  {
   "cell_type": "code",
   "execution_count": null,
   "id": "c5108ed3",
   "metadata": {},
   "outputs": [],
   "source": []
  }
 ],
 "metadata": {
  "kernelspec": {
   "display_name": "Python 3",
   "language": "python",
   "name": "python3"
  },
  "language_info": {
   "codemirror_mode": {
    "name": "ipython",
    "version": 3
   },
   "file_extension": ".py",
   "mimetype": "text/x-python",
   "name": "python",
   "nbconvert_exporter": "python",
   "pygments_lexer": "ipython3",
   "version": "3.6.13"
  }
 },
 "nbformat": 4,
 "nbformat_minor": 5
}
