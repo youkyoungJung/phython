{
 "cells": [
  {
   "cell_type": "code",
   "execution_count": 12,
   "id": "9a9d6172",
   "metadata": {},
   "outputs": [],
   "source": [
    "#높이를 입력받아 비 온 후 얼마나 많은 물이 쌓일 수 있는지 계산하라.\n",
    "from typing import List\n",
    "\n",
    "def trap(height: List[int]) -> int:\n",
    "    if not height:\n",
    "        return 0\n",
    "\n",
    "    volume = 0\n",
    "    left = 0\n",
    "    right = len(height) - 1\n",
    "    left_max = height[left]\n",
    "    right_max = height[right]\n",
    "    \n",
    "    while left < right:\n",
    "        left_max =  max(height[left], left_max)\n",
    "        right_max = max(height[right], right_max)\n",
    "        \n",
    "        # 더 높은 쪽을 향해 투 포인터 이동\n",
    "        if left_max <= right_max:\n",
    "            volume += left_max - height[left]\n",
    "            left += 1\n",
    "        else:\n",
    "            volume += right_max - height[right]\n",
    "            right -= 1\n",
    "    return volume"
   ]
  },
  {
   "cell_type": "code",
   "execution_count": 13,
   "id": "dadf9283",
   "metadata": {},
   "outputs": [
    {
     "data": {
      "text/plain": [
       "6"
      ]
     },
     "execution_count": 13,
     "metadata": {},
     "output_type": "execute_result"
    }
   ],
   "source": [
    "height = [0, 1, 0, 2, 1, 0, 1, 3, 1, 2, 1]\n",
    "trap(height)"
   ]
  },
  {
   "cell_type": "code",
   "execution_count": 17,
   "id": "9a672080",
   "metadata": {},
   "outputs": [
    {
     "data": {
      "text/plain": [
       "6"
      ]
     },
     "execution_count": 17,
     "metadata": {},
     "output_type": "execute_result"
    }
   ],
   "source": [
    "#스택이용\n",
    "def trap2withStack(height: List[int]) -> int:\n",
    "    stack = []\n",
    "    volume = 0\n",
    "\n",
    "    for i in range(len(height)):\n",
    "        # 변곡점을 만나는 경우\n",
    "        while stack and height[i] > height[stack[-1]]:\n",
    "            # 스택에서 꺼낸다\n",
    "            top = stack.pop()\n",
    "\n",
    "            if not len(stack):\n",
    "                break\n",
    "\n",
    "            # 이전과의 차이만큼 물 높이 처리\n",
    "            distance = i - stack[-1] - 1\n",
    "            waters = min(height[i], height[stack[-1]]) - height[top]\n",
    "\n",
    "            volume += distance * waters\n",
    "\n",
    "        stack.append(i)\n",
    "    return volume\n",
    "\n",
    "trap2withStack(height)"
   ]
  },
  {
   "cell_type": "code",
   "execution_count": null,
   "id": "369e46ec",
   "metadata": {},
   "outputs": [],
   "source": []
  }
 ],
 "metadata": {
  "kernelspec": {
   "display_name": "Python 3",
   "language": "python",
   "name": "python3"
  },
  "language_info": {
   "codemirror_mode": {
    "name": "ipython",
    "version": 3
   },
   "file_extension": ".py",
   "mimetype": "text/x-python",
   "name": "python",
   "nbconvert_exporter": "python",
   "pygments_lexer": "ipython3",
   "version": "3.6.13"
  }
 },
 "nbformat": 4,
 "nbformat_minor": 5
}
