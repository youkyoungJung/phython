{
 "cells": [
  {
   "cell_type": "code",
   "execution_count": 14,
   "id": "10fd0fce",
   "metadata": {},
   "outputs": [],
   "source": [
    "import collections\n",
    "import re\n",
    "from typing import List\n"
   ]
  },
  {
   "cell_type": "code",
   "execution_count": 18,
   "id": "43d00ee5",
   "metadata": {},
   "outputs": [
    {
     "data": {
      "text/plain": [
       "'ball'"
      ]
     },
     "execution_count": 18,
     "metadata": {},
     "output_type": "execute_result"
    }
   ],
   "source": [
    "paragraph = \"Bob hit a ball, the hit BALL fiew far after it was hit.\"\n",
    "banned = [\"hit\"]\n",
    "\n",
    "def mostCommonWord(paragraph: str, banned: List[str]) -> str:\n",
    "        words = [word for word in re.sub(r'[^\\w]', ' ', paragraph)\n",
    "            .lower().split()\n",
    "                 if word not in banned]\n",
    "\n",
    "        counts = collections.Counter(words)\n",
    "        # 가장 흔하게 등장하는 단어의 첫 번째 인덱스 리턴\n",
    "        return counts.most_common(1)[0][0]\n",
    "    \n",
    "mostCommonWord(paragraph, banned)"
   ]
  },
  {
   "cell_type": "code",
   "execution_count": null,
   "id": "6b24a6df",
   "metadata": {},
   "outputs": [],
   "source": []
  }
 ],
 "metadata": {
  "kernelspec": {
   "display_name": "Python 3",
   "language": "python",
   "name": "python3"
  },
  "language_info": {
   "codemirror_mode": {
    "name": "ipython",
    "version": 3
   },
   "file_extension": ".py",
   "mimetype": "text/x-python",
   "name": "python",
   "nbconvert_exporter": "python",
   "pygments_lexer": "ipython3",
   "version": "3.6.13"
  }
 },
 "nbformat": 4,
 "nbformat_minor": 5
}
