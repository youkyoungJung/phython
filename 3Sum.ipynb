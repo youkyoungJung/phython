{
 "cells": [
  {
   "cell_type": "code",
   "execution_count": 22,
   "id": "88b20dfe",
   "metadata": {},
   "outputs": [],
   "source": [
    "#배열을 입력받아 합으로 0을 만들 수 있는 3개의 엘리먼트를 출력하라.\n",
    "\n",
    "from typing import List\n",
    "\n",
    "nums = [-1, 0, 1, 2, -1, 4, 3, -3]\n",
    "results = []\n"
   ]
  },
  {
   "cell_type": "code",
   "execution_count": 23,
   "id": "d0d6cf90",
   "metadata": {},
   "outputs": [
    {
     "data": {
      "text/plain": [
       "[[-3, -1, 4], [-3, 0, 3], [-3, 1, 2], [-1, -1, 2], [-1, 0, 1]]"
      ]
     },
     "execution_count": 23,
     "metadata": {},
     "output_type": "execute_result"
    }
   ],
   "source": [
    "# 브루트 포스로 계산\n",
    "def threeSum(nums: List[int]) -> List[List[int]]:\n",
    "    results = []\n",
    "    nums.sort()\n",
    "\n",
    "    # 브루트 포스 n^3 반복\n",
    "    for i in range(len(nums) - 2):\n",
    "        # 중복된 값 건너뛰기\n",
    "        if i > 0 and nums[i] == nums[i - 1]:\n",
    "            continue\n",
    "        for j in range(i + 1, len(nums) - 1):\n",
    "            if j > i + 1 and nums[j] == nums[j - 1]:\n",
    "                continue\n",
    "            for k in range(j + 1, len(nums)):\n",
    "                if k > j + 1 and nums[k] == nums[k - 1]:\n",
    "                    continue\n",
    "                if nums[i] + nums[j] + nums[k] == 0:\n",
    "                    results.append([nums[i], nums[j], nums[k]])\n",
    "    return results\n",
    "\n",
    "threeSum(nums)"
   ]
  },
  {
   "cell_type": "code",
   "execution_count": null,
   "id": "2c5cb882",
   "metadata": {},
   "outputs": [],
   "source": [
    "for i in range(len(nums)):\n",
    "    for  j in range(i+1, len(nums)-1):\n",
    "        for k in range(i+2, len(nums)-2):\n",
    "            if nums[i]+nums[j]+nums[k] == 0:\n",
    "                results.append([nums[i], nums[j], nums[k]])\n",
    "print(results)"
   ]
  }
 ],
 "metadata": {
  "kernelspec": {
   "display_name": "Python 3",
   "language": "python",
   "name": "python3"
  },
  "language_info": {
   "codemirror_mode": {
    "name": "ipython",
    "version": 3
   },
   "file_extension": ".py",
   "mimetype": "text/x-python",
   "name": "python",
   "nbconvert_exporter": "python",
   "pygments_lexer": "ipython3",
   "version": "3.6.13"
  }
 },
 "nbformat": 4,
 "nbformat_minor": 5
}
