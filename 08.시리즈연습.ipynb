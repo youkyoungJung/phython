{
 "cells": [
  {
   "cell_type": "code",
   "execution_count": 1,
   "metadata": {},
   "outputs": [],
   "source": [
    "#시리즈만들기\n",
    "#시리즈 속성\n",
    "#시리즈 인덱싱,슬라이싱\n",
    "#시리즈 연산\n",
    "#시리즈 CRUD\n",
    "#시리즈 통계\n",
    "import pandas as pd\n",
    "import numpy as np\n",
    "import matplotlib.pyplot as plt\n",
    "import matplotlib\n",
    "matplotlib.rcParams['font.family']='Malgun Gothic'\n",
    "matplotlib.rcParams['axes.unicode_minus']=False"
   ]
  },
  {
   "cell_type": "code",
   "execution_count": 2,
   "metadata": {},
   "outputs": [
    {
     "data": {
      "text/plain": [
       "홍길동     90\n",
       "이순신     90\n",
       "임꺽정     55\n",
       "정난정     60\n",
       "이이      76\n",
       "이황      80\n",
       "정도전     76\n",
       "김철수1    88\n",
       "김철수2    30\n",
       "김철수3    25\n",
       "Name: 국어점수, dtype: int64"
      ]
     },
     "execution_count": 2,
     "metadata": {},
     "output_type": "execute_result"
    }
   ],
   "source": [
    "sr = pd.Series( [90,90,55,60,76,80,76,88,30,25],\n",
    "               name=\"국어점수\" )\n",
    "sr.index=['홍길동','이순신','임꺽정','정난정',\n",
    "         '이이','이황','정도전','김철수1',\n",
    "          '김철수2','김철수3']\n",
    "sr"
   ]
  },
  {
   "cell_type": "code",
   "execution_count": null,
   "metadata": {},
   "outputs": [],
   "source": [
    "( 연습문제 )\n",
    "1. 국어점수가 가장큰값을 구하시요\n",
    "2. 국어점수가 가장큰값의 이름을 구하시요\n",
    "3. 국어점수가 80점이상인 값을 구하시요\n",
    "4. 국어 점수가 50점이상 80점이하인\n",
    "값을 구하시요\n",
    "5. 이름이 김으로 시작하는 데이터를\n",
    "구하시요\n",
    "6. 국어점수의 평균을 구하시요\n",
    "7. 국어점수의 총합을 구하시요\n",
    "8. 국어점수의 표준편차를 구하시요\n",
    "9. 국어점수가 40점이하인 데이터를 삭제하시요\n",
    "10. 국어점수가 50점이상인 데이터에 가산점 10%를 \n",
    "미만인경우는 20%를 부여하시요\n",
    "11. 국어점수 top 5를 구하시요\n",
    "12. 국어점수가 50점이상인 데이터의 바차트를 그리시요\n",
    "13. 국어점수의 범위(0~50,50~70,70~100)별 돗수를 구하시요 \n",
    "( 범위, 0~50,50~70,70~100)\n",
    "14. 아래처럼 출력하시요(70점이상 합격 미만 불합격)\n",
    "========================\n",
    "이름     국어   합격여부\n",
    "=========================\n",
    "홍길동   90      합격\n",
    "이순신   90      합격\n",
    "...."
   ]
  },
  {
   "cell_type": "code",
   "execution_count": 3,
   "metadata": {},
   "outputs": [
    {
     "data": {
      "text/plain": [
       "90"
      ]
     },
     "execution_count": 3,
     "metadata": {},
     "output_type": "execute_result"
    }
   ],
   "source": [
    "#1.\n",
    "sr.max()"
   ]
  },
  {
   "cell_type": "code",
   "execution_count": 7,
   "metadata": {},
   "outputs": [
    {
     "data": {
      "text/plain": [
       "Index(['홍길동', '이순신'], dtype='object')"
      ]
     },
     "execution_count": 7,
     "metadata": {},
     "output_type": "execute_result"
    }
   ],
   "source": [
    "#2.\n",
    "mx = sr.max()\n",
    "sr[sr == mx].index"
   ]
  },
  {
   "cell_type": "code",
   "execution_count": 9,
   "metadata": {},
   "outputs": [
    {
     "data": {
      "text/plain": [
       "홍길동     90\n",
       "이순신     90\n",
       "이황      80\n",
       "김철수1    88\n",
       "Name: 국어점수, dtype: int64"
      ]
     },
     "execution_count": 9,
     "metadata": {},
     "output_type": "execute_result"
    }
   ],
   "source": [
    "#3. 국어점수가 80점이상인 값을 구하시요\n",
    "sr[sr>=80]"
   ]
  },
  {
   "cell_type": "code",
   "execution_count": 11,
   "metadata": {},
   "outputs": [
    {
     "data": {
      "text/plain": [
       "임꺽정    55\n",
       "정난정    60\n",
       "이이     76\n",
       "이황     80\n",
       "정도전    76\n",
       "Name: 국어점수, dtype: int64"
      ]
     },
     "execution_count": 11,
     "metadata": {},
     "output_type": "execute_result"
    }
   ],
   "source": [
    "#4. 국어 점수가 50점이상 80점이하인 값을 구하시요\n",
    "sr[(sr>=50) &(sr<=80)]"
   ]
  },
  {
   "cell_type": "code",
   "execution_count": 15,
   "metadata": {},
   "outputs": [
    {
     "data": {
      "text/plain": [
       "김철수1    88\n",
       "김철수2    30\n",
       "김철수3    25\n",
       "Name: 국어점수, dtype: int64"
      ]
     },
     "execution_count": 15,
     "metadata": {},
     "output_type": "execute_result"
    }
   ],
   "source": [
    "#5. 이름이 김으로 시작하는 데이터를 구하시요\n",
    "sr[sr.index.str.contains('^김')]"
   ]
  },
  {
   "cell_type": "code",
   "execution_count": 16,
   "metadata": {},
   "outputs": [
    {
     "data": {
      "text/plain": [
       "67.0"
      ]
     },
     "execution_count": 16,
     "metadata": {},
     "output_type": "execute_result"
    }
   ],
   "source": [
    "#6.6. 국어점수의 평균을 구하시요\n",
    "sr.mean()"
   ]
  },
  {
   "cell_type": "code",
   "execution_count": 17,
   "metadata": {},
   "outputs": [
    {
     "data": {
      "text/plain": [
       "670"
      ]
     },
     "execution_count": 17,
     "metadata": {},
     "output_type": "execute_result"
    }
   ],
   "source": [
    "#7. 국어점수의 총합을 구하시요\n",
    "sr.sum()"
   ]
  },
  {
   "cell_type": "code",
   "execution_count": 18,
   "metadata": {},
   "outputs": [
    {
     "data": {
      "text/plain": [
       "23.935097428021656"
      ]
     },
     "execution_count": 18,
     "metadata": {},
     "output_type": "execute_result"
    }
   ],
   "source": [
    "# 8. 국어점수의 표준편차를 구하시요\n",
    "sr.std()"
   ]
  },
  {
   "cell_type": "code",
   "execution_count": 22,
   "metadata": {},
   "outputs": [
    {
     "name": "stdout",
     "output_type": "stream",
     "text": [
      "김철수2    30\n",
      "김철수3    25\n",
      "Name: 국어점수, dtype: int64\n"
     ]
    },
    {
     "data": {
      "text/plain": [
       "홍길동     90\n",
       "이순신     90\n",
       "임꺽정     55\n",
       "정난정     60\n",
       "이이      76\n",
       "이황      80\n",
       "정도전     76\n",
       "김철수1    88\n",
       "Name: 국어점수, dtype: int64"
      ]
     },
     "execution_count": 22,
     "metadata": {},
     "output_type": "execute_result"
    }
   ],
   "source": [
    "# 9. 국어점수가 40점이하인 데이터를 삭제하시요\n",
    "sr1 = sr[sr<=40]\n",
    "print(sr1)\n",
    "sr.drop(sr1.index)"
   ]
  },
  {
   "cell_type": "code",
   "execution_count": 24,
   "metadata": {},
   "outputs": [
    {
     "data": {
      "text/plain": [
       "홍길동     99.0\n",
       "이순신     99.0\n",
       "임꺽정     60.5\n",
       "정난정     66.0\n",
       "이이      83.6\n",
       "이황      88.0\n",
       "정도전     83.6\n",
       "김철수1    96.8\n",
       "김철수2    36.0\n",
       "김철수3    30.0\n",
       "Name: 국어점수, dtype: float64"
      ]
     },
     "execution_count": 24,
     "metadata": {},
     "output_type": "execute_result"
    }
   ],
   "source": [
    "# 10. 국어점수가 50점이상인 데이터에 가산점 10%를 \n",
    "# 미만인경우는 20%를 부여하시요\n",
    "sr.apply(lambda v:v*1.1 if v>=50 else v*1.2)"
   ]
  },
  {
   "cell_type": "code",
   "execution_count": 25,
   "metadata": {},
   "outputs": [
    {
     "data": {
      "text/plain": [
       "홍길동     90\n",
       "이순신     90\n",
       "김철수1    88\n",
       "이황      80\n",
       "이이      76\n",
       "Name: 국어점수, dtype: int64"
      ]
     },
     "execution_count": 25,
     "metadata": {},
     "output_type": "execute_result"
    }
   ],
   "source": [
    "# 11. 국어점수 top 5를 구하시요\n",
    "sr.nlargest(5)"
   ]
  },
  {
   "cell_type": "code",
   "execution_count": 27,
   "metadata": {},
   "outputs": [
    {
     "data": {
      "text/plain": [
       "<matplotlib.axes._subplots.AxesSubplot at 0x1e7a196f1d0>"
      ]
     },
     "execution_count": 27,
     "metadata": {},
     "output_type": "execute_result"
    },
    {
     "data": {
      "image/png": "[encoded data removed]",
      "text/plain": [
       "<Figure size 432x288 with 1 Axes>"
      ]
     },
     "metadata": {},
     "output_type": "display_data"
    }
   ],
   "source": [
    "# 12. 국어점수가 50점이상인 데이터의 바차트를 그리시요\n",
    "sr1 = sr[sr>= 50]\n",
    "sr1.plot(kind='bar')"
   ]
  },
  {
   "cell_type": "code",
   "execution_count": 29,
   "metadata": {},
   "outputs": [
    {
     "data": {
      "text/plain": [
       "홍길동     (70, 100]\n",
       "이순신     (70, 100]\n",
       "임꺽정      (50, 70]\n",
       "정난정      (50, 70]\n",
       "이이      (70, 100]\n",
       "이황      (70, 100]\n",
       "정도전     (70, 100]\n",
       "김철수1    (70, 100]\n",
       "김철수2      (0, 50]\n",
       "김철수3      (0, 50]\n",
       "Name: 국어점수, dtype: category\n",
       "Categories (3, interval[int64]): [(0, 50] < (50, 70] < (70, 100]]"
      ]
     },
     "execution_count": 29,
     "metadata": {},
     "output_type": "execute_result"
    }
   ],
   "source": [
    "# 13. 국어점수의 범위(0~50,50~70,70~100)별 돗수를 구하시요 \n",
    "# ( 범위, 0~50,50~70,70~100)\n",
    "pd.cut( sr, [0,50,70,100])"
   ]
  },
  {
   "cell_type": "code",
   "execution_count": 31,
   "metadata": {},
   "outputs": [
    {
     "data": {
      "text/plain": [
       "(70, 100]    6\n",
       "(50, 70]     2\n",
       "(0, 50]      2\n",
       "Name: 국어점수, dtype: int64"
      ]
     },
     "execution_count": 31,
     "metadata": {},
     "output_type": "execute_result"
    }
   ],
   "source": [
    "pd.cut( sr, [0,50,70,100]).value_counts()"
   ]
  },
  {
   "cell_type": "code",
   "execution_count": null,
   "metadata": {},
   "outputs": [],
   "source": [
    "14. 아래처럼 출력하시요(70점이상 합격 미만 불합격)\n",
    "========================\n",
    "이름     국어   합격여부\n",
    "=========================\n",
    "홍길동   90      합격\n",
    "이순신   90      합격\n",
    "...."
   ]
  },
  {
   "cell_type": "code",
   "execution_count": 37,
   "metadata": {},
   "outputs": [
    {
     "name": "stdout",
     "output_type": "stream",
     "text": [
      "홍길동\t90\t합격\n",
      "이순신\t90\t합격\n",
      "임꺽정\t55\t불합격\n",
      "정난정\t60\t불합격\n",
      "이이\t76\t합격\n",
      "이황\t80\t합격\n",
      "정도전\t76\t합격\n",
      "김철수1\t88\t합격\n",
      "김철수2\t30\t불합격\n",
      "김철수3\t25\t불합격\n"
     ]
    }
   ],
   "source": [
    "for i, v in sr.items():\n",
    "    print(i, v, '합격' if v>=70 else '불합격', sep='\\t')"
   ]
  },
  {
   "cell_type": "code",
   "execution_count": null,
   "metadata": {},
   "outputs": [],
   "source": []
  }
 ],
 "metadata": {
  "kernelspec": {
   "display_name": "Python 3",
   "language": "python",
   "name": "python3"
  },
  "language_info": {
   "codemirror_mode": {
    "name": "ipython",
    "version": 3
   },
   "file_extension": ".py",
   "mimetype": "text/x-python",
   "name": "python",
   "nbconvert_exporter": "python",
   "pygments_lexer": "ipython3",
   "version": "3.6.5"
  }
 },
 "nbformat": 4,
 "nbformat_minor": 2
}
